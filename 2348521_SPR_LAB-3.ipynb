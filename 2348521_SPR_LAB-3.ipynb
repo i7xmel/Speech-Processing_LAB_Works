{
  "cells": [
    {
      "cell_type": "code",
      "execution_count": 4,
      "metadata": {
        "id": "r8vSUmNHFYSt",
        "outputId": "9003267e-90d1-4e21-b3d0-7a3676863f37"
      },
      "outputs": [
        {
          "name": "stdout",
          "output_type": "stream",
          "text": [
            "Speak something\n",
            "Listening for 5 seconds...\n",
            "Recognizing...\n",
            "Speech recognized: \"hello my name is Ismail Basheer\"\n",
            "Speech successfully converted to text!\n"
          ]
        }
      ],
      "source": [
        "import speech_recognition as sr\n",
        "\n",
        "# Initialize recognizer\n",
        "recognizer = sr.Recognizer()\n",
        "\n",
        "# Function to capture speech and convert to text\n",
        "def recognize_speech():\n",
        "    # Use the default microphone as the audio source\n",
        "    with sr.Microphone() as source:\n",
        "        print(\"Speak something\")\n",
        "        recognizer.adjust_for_ambient_noise(source)  # Adjust for background noise\n",
        "        print(\"Listening for 5 seconds...\")\n",
        "        # Listen for speech, but limit the listening time to 5 seconds\n",
        "        audio = recognizer.listen(source, timeout=5, phrase_time_limit=5)\n",
        "\n",
        "        try:\n",
        "            print(\"Recognizing...\")\n",
        "            # Recognize speech using Google's speech recognition\n",
        "            recognized_text = recognizer.recognize_google(audio)\n",
        "            print(f'Speech recognized: \"{recognized_text}\"')\n",
        "            print(\"Speech successfully converted to text!\")\n",
        "        except sr.UnknownValueError:\n",
        "            # Handle case where recognizer doesn't understand the audio\n",
        "            print(\"Speech Recognition could not understand audio, Please try speaking more clearly\")\n",
        "        except sr.RequestError as e:\n",
        "            # Handle case where there is a request error (e.g., no internet connection)\n",
        "            print(f\"Could not request results from Speech Recognition service; {e}\")\n",
        "\n",
        "# Call the function\n",
        "recognize_speech()"
      ]
    },
    {
      "cell_type": "markdown",
      "metadata": {},
      "source": [
        "### Inference on the Execution of the Total System:\n",
        "\n",
        "The system is designed to capture spoken input from a user via the microphone and convert it into text using Google’s Speech Recognition API. The key steps include preparing the microphone, adjusting for background noise, and listening for speech. After capturing the audio, it sends the data to Google’s API to translate the speech into text. \n",
        "\n",
        "The system efficiently handles background noise by adjusting to the environment, which improves accuracy. It also includes error handling for two major scenarios: (1) if the speech is not understood (e.g., unclear speech or poor recording conditions), and (2) if the system cannot connect to the Google API (e.g., due to network issues).\n",
        "\n",
        "The success of the system relies on clear input speech and a stable internet connection for the Google API to process the audio. This basic system can serve as a foundation for various voice-activated applications, though its performance can be impacted by noisy environments, poor audio quality, or latency in the speech recognition service."
      ]
    },
    {
      "cell_type": "code",
      "execution_count": null,
      "metadata": {},
      "outputs": [],
      "source": []
    }
  ],
  "metadata": {
    "colab": {
      "provenance": []
    },
    "kernelspec": {
      "display_name": "Python 3",
      "language": "python",
      "name": "python3"
    },
    "language_info": {
      "codemirror_mode": {
        "name": "ipython",
        "version": 3
      },
      "file_extension": ".py",
      "mimetype": "text/x-python",
      "name": "python",
      "nbconvert_exporter": "python",
      "pygments_lexer": "ipython3",
      "version": "3.12.7"
    }
  },
  "nbformat": 4,
  "nbformat_minor": 0
}
